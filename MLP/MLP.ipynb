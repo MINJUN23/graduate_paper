{
 "cells": [
  {
   "cell_type": "code",
   "execution_count": null,
   "metadata": {},
   "outputs": [],
   "source": [
    "import pandas as pd\n",
    "import matplotlib.pyplot as plt\n",
    "import joblib\n",
    "from tensorflow import keras\n",
    "from sklearn.preprocessing import MinMaxScaler\n",
    "\n",
    "from tensorflow.python.client import device_lib\n",
    "print(device_lib.list_local_devices())"
   ]
  },
  {
   "cell_type": "code",
   "execution_count": null,
   "metadata": {},
   "outputs": [],
   "source": [
    "#{\"R\": [R], \"D\": [D],\"H\": [H], \"F\":[log10(f)],\"RP\": [RP]})\n",
    "DATA = pd.read_csv(\"DATA/data.csv\")\n",
    "DATA.pop(\"Unnamed: 0\")\n",
    "\n",
    "ROW_NUM = len(DATA.index)\n",
    "print(ROW_NUM)\n",
    "TRAINING_NUM = int(ROW_NUM / 10 * 7)\n",
    "VALIDATION_NUM = int(ROW_NUM / 20 * 3 )\n",
    "\n",
    "TRAINING_DATA = DATA.iloc[ :TRAINING_NUM,:]\n",
    "VALIDATION_DATA = DATA.iloc[TRAINING_NUM:TRAINING_NUM+VALIDATION_NUM,:]\n",
    "TEST_DATA = DATA.iloc[TRAINING_NUM+VALIDATION_NUM:,:]\n",
    "TRAINING_VAL = pd.DataFrame(TRAINING_DATA.pop('RP'))\n",
    "VALIDATION_VAL = pd.DataFrame(VALIDATION_DATA.pop('RP'))\n",
    "TEST_VAL = pd.DataFrame(TEST_DATA.pop('RP'))\n",
    "\n",
    "DATA.pop('RP')\n"
   ]
  },
  {
   "cell_type": "code",
   "execution_count": 6,
   "metadata": {},
   "outputs": [],
   "source": [
    "min_max_scaler = MinMaxScaler(feature_range=(-1, 1))\n",
    "min_max_scaler.fit(DATA)\n",
    "joblib.dump(min_max_scaler, \"MLP.scaler.gz\") \n",
    "\n",
    "TRAINING_DATA = min_max_scaler.transform(TRAINING_DATA)\n",
    "TRAINING_DATA = pd.DataFrame(TRAINING_DATA)\n",
    "VALIDATION_DATA = min_max_scaler.transform(VALIDATION_DATA)\n",
    "VALIDATION_DATA = pd.DataFrame(VALIDATION_DATA)\n",
    "TEST_DATA = min_max_scaler.transform(TEST_DATA)\n",
    "TEST_DATA = pd.DataFrame(TEST_DATA)"
   ]
  },
  {
   "cell_type": "code",
   "execution_count": null,
   "metadata": {},
   "outputs": [],
   "source": [
    "\n",
    "model = keras.models.Sequential([\n",
    "    keras.layers.Dense(320,activation=\"tanh\", input_dim=4),\n",
    "    keras.layers.Dense(1, activation=\"linear\")\n",
    "])\n",
    "\n",
    "learning_rate = 0.0001\n",
    "optimizer = keras.optimizers.Adam(lr=learning_rate, beta_1=0.9, beta_2=0.999, epsilon=None, decay=0.0, amsgrad=False)\n",
    "model.compile(loss=\"mean_absolute_error\", optimizer=optimizer)\n",
    "\n",
    "epochs=100\n",
    "batch=32\n",
    "\n",
    "\n",
    "model_name = f\"mae_{model.layers[0].input_shape[1]}\"\n",
    "for layer in model.layers:\n",
    "    model_name+=f\"-{layer.output_shape[1]}\"\n",
    "model_name += f\"_e:{epochs}_b:{batch}_lr:{learning_rate}\"\n",
    "print(model_name)\n",
    "\n",
    "\n",
    "history = model.fit(TRAINING_DATA, TRAINING_VAL, epochs=epochs, batch_size=batch, validation_data=(VALIDATION_DATA, VALIDATION_VAL))\n",
    "model.save(f\"MODELS/{model_name}.h5\")\n",
    "\n",
    "from math import log10\n",
    "\n",
    "scores = model.evaluate(TEST_DATA, TEST_VAL, batch_size=20)\n",
    "plt.plot([10*log10(loss) for loss in history.history['loss'][4:]])\n",
    "plt.plot([10*log10(loss) for loss in history.history['val_loss'][4:]])\n",
    "plt.title(f'model loss {scores}')\n",
    "plt.ylabel('loss dB')\n",
    "plt.xlabel('epoch')\n",
    "plt.legend(['TRAIN', 'VALID'], loc='upper left')\n",
    "plt.savefig(f\"TRAINING_PROCESS/{model_name}.png\")\n",
    "plt.show()\n"
   ]
  },
  {
   "cell_type": "code",
   "execution_count": 16,
   "metadata": {},
   "outputs": [],
   "source": [
    "TEST_DATA = TEST_DATA.iloc[:30,:]\n",
    "PREDICTIONS = pd.DataFrame(model.predict(TEST_DATA, verbose=0))\n",
    "PREDICTIONS.columns=[\"PREDICITONS\"]\n",
    "\n",
    "TEST_VAL = TEST_VAL.iloc[:30,:]\n",
    "TEST_VAL.columns=[\"TEST_VAL\"]\n",
    "TEST_VAL = TEST_VAL.reset_index(drop=True)\n",
    "\n",
    "result=pd.concat([PREDICTIONS, TEST_VAL], axis=1)\n",
    "result[\"ERROR\"] = result[\"PREDICITONS\"] - result[\"TEST_VAL\"]\n",
    "result.to_csv(\"MLP.csv\")\n"
   ]
  }
 ],
 "metadata": {
  "interpreter": {
   "hash": "bf2736d2dc3db2363fd9d68a36e039cc6ee6a7cd58f75a4614eb3cc645286fb7"
  },
  "kernelspec": {
   "display_name": "Python 3.9.12 ('code-gcDAJfEO')",
   "language": "python",
   "name": "python3"
  },
  "language_info": {
   "codemirror_mode": {
    "name": "ipython",
    "version": 3
   },
   "file_extension": ".py",
   "mimetype": "text/x-python",
   "name": "python",
   "nbconvert_exporter": "python",
   "pygments_lexer": "ipython3",
   "version": "3.9.12"
  },
  "orig_nbformat": 4
 },
 "nbformat": 4,
 "nbformat_minor": 2
}
